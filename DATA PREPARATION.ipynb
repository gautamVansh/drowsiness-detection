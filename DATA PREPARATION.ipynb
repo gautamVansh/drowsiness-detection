{
 "cells": [
  {
   "cell_type": "code",
   "execution_count": 1,
   "id": "544af20c",
   "metadata": {},
   "outputs": [],
   "source": [
    "import os\n",
    "import shutil\n",
    "import glob\n",
    "from tqdm  import  tqdm"
   ]
  },
  {
   "cell_type": "markdown",
   "id": "1214b531",
   "metadata": {},
   "source": [
    "###### Raw_DIR = r'C:\\Users\\Lenovo\\Downloads\\mrlEyes_2018_01\\mrlEyes_2018_01'\n",
    "for dirpath, dirname, filenames in os.walk(Raw_DIR):\n",
    "    for i in tqdm([f for f in filenames if f.endswith('.png')]):\n",
    "        if i.split('_')[4]=='0':\n",
    "            shutil.copy(src=dirpath+'/'+i, dst =r'C:\\Users\\Lenovo\\Downloads\\mrlEyes_2018_01\\prepared_Data\\closed_eyes');\n",
    "        elif i.split('_')[4]=='1':\n",
    "            shutil.copy(src=dirpath+'/'+i, dst =r'C:\\Users\\Lenovo\\Downloads\\mrlEyes_2018_01\\prepared_Data\\open_eyes');\n",
    "            \n",
    "    "
   ]
  },
  {
   "cell_type": "code",
   "execution_count": null,
   "id": "48ae5bb8",
   "metadata": {},
   "outputs": [],
   "source": []
  }
 ],
 "metadata": {
  "kernelspec": {
   "display_name": "Python 3 (ipykernel)",
   "language": "python",
   "name": "python3"
  },
  "language_info": {
   "codemirror_mode": {
    "name": "ipython",
    "version": 3
   },
   "file_extension": ".py",
   "mimetype": "text/x-python",
   "name": "python",
   "nbconvert_exporter": "python",
   "pygments_lexer": "ipython3",
   "version": "3.10.9"
  }
 },
 "nbformat": 4,
 "nbformat_minor": 5
}
